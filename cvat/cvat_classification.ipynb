{
  "cells": [
    {
      "cell_type": "code",
      "execution_count": 1,
      "metadata": {
        "id": "4cyGimsCZPdl"
      },
      "outputs": [],
      "source": [
        "import pandas as pd\n",
        "from xml.dom import minidom"
      ]
    },
    {
      "cell_type": "code",
      "execution_count": 2,
      "metadata": {
        "id": "4B0WP5OHaI_i"
      },
      "outputs": [],
      "source": [
        "DF = pd.read_csv('R_classification.csv')"
      ]
    },
    {
      "cell_type": "code",
      "execution_count": 3,
      "metadata": {
        "id": "qo60R4BcajPi"
      },
      "outputs": [],
      "source": [
        "all_id = list()\n",
        "item_list = list()\n",
        "for i, row in DF.iterrows():\n",
        "    id = i\n",
        "    name = row['image']\n",
        "    width = 1600\n",
        "    height = 1200\n",
        "    if row['type'] == 0:\n",
        "        tag = 0\n",
        "    else:\n",
        "        tag = 1\n",
        "    item = {'image':{\n",
        "        'id': id,\n",
        "        'name': name,\n",
        "        'width': width,\n",
        "        'height': height\n",
        "        },\n",
        "            'tag':{\n",
        "        'label': tag,\n",
        "        'source': \"manual\"\n",
        "        }}\n",
        "    item_list.append(item)\n"
      ]
    },
    {
      "cell_type": "code",
      "execution_count": 4,
      "metadata": {
        "id": "VCsskOC6lYi8"
      },
      "outputs": [],
      "source": [
        "\n",
        "# create file\n",
        "annotations = minidom.Document()\n",
        "\n",
        "# create root element\n",
        "xml = annotations.createElement('annotations')\n",
        "annotations.appendChild(xml)\n",
        "\n",
        "for user in range(len(item_list)):\n",
        "        # create child element\n",
        "        productChild = annotations.createElement('image')\n",
        "        tag = annotations.createElement('tag')\n",
        "        # insert user data into element\n",
        "        productChild.setAttribute('id', str(item_list[user]['image']['id']))\n",
        "        productChild.setAttribute('name', str(item_list[user]['image']['name']))\n",
        "        productChild.setAttribute('width', str(item_list[user]['image']['width']))\n",
        "        productChild.setAttribute('height', str(item_list[user]['image']['height']))\n",
        "        xml.appendChild(productChild)\n",
        "        productChild.appendChild(tag)\n",
        "        tag.setAttribute('label', str(item_list[user]['tag']['label']))\n",
        "        tag.setAttribute('source', str(item_list[user]['tag']['source']))\n",
        "\n",
        "xml_str = annotations.toprettyxml(indent =\"\\t\")\n",
        "\n",
        "# save file\n",
        "save_path_file = \"annotations.xml\"\n",
        "\n",
        "with open(save_path_file, \"w\") as f:\n",
        "\tf.write(xml_str)\n"
      ]
    }
  ],
  "metadata": {
    "colab": {
      "provenance": []
    },
    "kernelspec": {
      "display_name": "Python 3",
      "name": "python3"
    },
    "language_info": {
      "codemirror_mode": {
        "name": "ipython",
        "version": 3
      },
      "file_extension": ".py",
      "mimetype": "text/x-python",
      "name": "python",
      "nbconvert_exporter": "python",
      "pygments_lexer": "ipython3",
      "version": "3.10.11"
    }
  },
  "nbformat": 4,
  "nbformat_minor": 0
}
